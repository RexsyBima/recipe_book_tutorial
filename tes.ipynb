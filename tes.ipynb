{
 "cells": [
  {
   "cell_type": "code",
   "execution_count": 3,
   "metadata": {},
   "outputs": [
    {
     "name": "stdout",
     "output_type": "stream",
     "text": [
      "Number not between 1 and 3, the number is 777\n"
     ]
    }
   ],
   "source": [
    "# simple match case statement\n",
    "def runMatch():\n",
    "    num = int(input(\"Enter a number between 1 and 3: \"))\n",
    "    \n",
    "    # match case\n",
    "    match num:\n",
    "        # pattern 1\n",
    "        case 1:\n",
    "            print(\"One\")\n",
    "        # pattern 2\n",
    "        case 2:\n",
    "            print(\"Two\")\n",
    "        # pattern 3\n",
    "        case 3:\n",
    "            print(\"Three\")\n",
    "        # default pattern\n",
    "        case _:\n",
    "            print(f\"Number not between 1 and 3, the number is {num}\")\n",
    "            \n",
    "runMatch()"
   ]
  },
  {
   "cell_type": "code",
   "execution_count": 6,
   "metadata": {},
   "outputs": [
    {
     "name": "stdout",
     "output_type": "stream",
     "text": [
      "Invalid input\n"
     ]
    }
   ],
   "source": [
    "\"\"\" \n",
    "bot crypto trading -> binance, bybit, kraken -> harus bisa konek ke pasar mereka masing2, dan cara koneknya beda2\n",
    "\"\"\"\n",
    "\n",
    "bots = (('BI', 'Binance'),\n",
    "        ('BY', 'Bybit'),\n",
    "        ('KR', 'Kraken'))\n",
    "\n",
    "user_input = input(\"Enter your bot category, BI for Binance, BY for Bybit, and KR for Kraken: \").upper()\n",
    "\n",
    "match user_input:\n",
    "    case 'BI':\n",
    "        print(f\"Connecting to {bots[0][1]}\")\n",
    "    case 'BY':\n",
    "        print(f\"Connecting to {bots[1][1]}\")\n",
    "    case 'KR':\n",
    "        print(f\"Connecting to {bots[2][1]}\")\n",
    "    case _:\n",
    "        print(\"Invalid input\")"
   ]
  },
  {
   "cell_type": "code",
   "execution_count": null,
   "metadata": {},
   "outputs": [],
   "source": [
    "user_input = input(\"Enter your bot category, BI for Binance, BY for Bybit, and KR for Kraken: \").upper()\n",
    "\n",
    "match user_input:\n",
    "    case 'BI':\n",
    "        print(f\"Connecting to {bots[0][1]}\")\n",
    "    case 'BY':\n",
    "        print(f\"Connecting to {bots[1][1]}\")\n",
    "    case 'KR':\n",
    "        print(f\"Connecting to {bots[2][1]}\")\n",
    "    case _:\n",
    "        print(\"Invalid input\")\n",
    "\n",
    "if user_input == 'BI':\n",
    "    print(f\"Connecting to {bots[0][1]}\")\n",
    "elif user_input == 'BY':\n",
    "    print(f\"Connecting to {bots[1][1]}\")\n",
    "elif user_input == 'KR':\n",
    "    print(f\"Connecting to {bots[2][1]}\")\n",
    "else:\n",
    "    print(\"Invalid input\")"
   ]
  },
  {
   "cell_type": "code",
   "execution_count": 17,
   "metadata": {},
   "outputs": [
    {
     "name": "stdout",
     "output_type": "stream",
     "text": [
      "this is new food name\n",
      "{'descriptions': 'this is new description', 'food_name': 'this is new food name', 'ingredients': ['½ large shallot', '2 cloves garlic', '½ thai bird chile', '4 garlic chive blossoms', '2 large eggs', '½ tsp fish sauce', '1 tsp sambal oelek, or more if you like the heat', '½ tsp shrimp paste', '2 tsps oyster sauce', '1 tsp sweet soy sauce ', '1 tbsp light soy sauce', '2 cups cold rice', 'Salt, as needed', 'Peanut oil, as needed', 'Cilantro leaves, for garnish', '1 lime, for serving', 'Carrot Daikon Pickles, for serving'], 'instructions': ['Set out all equipment, tableware, and ingredients. Prepare Carrot Daikon Pickles. Rinse the chile, chive blossoms, cilantro, and lime.', 'Peel the shallot and garlic. Cut the shallot half in half, then slice ¼-inch thick pieces. Thinly slice the garlic. De-stem, de-seed, and thinly slice the chile. Quarter the lime. Roughly chop the cilantro. Cut the chive blossoms into 2-inch lengths. ', 'Whisk the eggs with ½ tsp fish sauce and a pinch of salt.', 'Mix the oyster sauce, light soy sauce, and sweet soy sauce together. ', 'Break the rice into individual grains with your fingers. ', 'Preheat the wok over high heat until smoking, swirl in a small amount of oil to coat, and pour out excess in the “grease-gutter,” which can be placed at the center-back region of the stove.', 'When beginning to smoke again, pour in 3 tbsp peanut oil, and swirl to heat.', 'Add the shallots and a pinch of salt, then cook until beginning to brown.', 'When the shallots have softened and begun to brown, add the garlic slices and chile, and cook until beginning to brown. Keep them moving constantly. Move to the next step if the shallots are getting too dark.  ', 'Stir in the sambal oelek and shrimp paste until the color changes and the splattering slows down. The oil will definitely splatter, so keep your face back. ', 'Pour in the eggs, and stir vigorously until they have absorbed the aromatics and oil. Add the chive blossoms, and keep stirring. ', 'When the eggs have fully coagulated, add the rice, breaking it up if needed, and stir-fry until very hot. If the rice sticks to the sides of the wok, add a little more oil, and make sure the heat is as high as possible. The rice should sizzle and crackle when hot enough. ', 'Drizzle the sauce mixture down the sides of the wok, and immediately toss to coat the rice. Cook until the sauce begins lightly caramelizing on the surface of the rice and the mixture does not look wet. ', 'Taste, adjust salt, toss, and plate. ', 'Sprinkle over the cilantro, and serve with lime and Carrot Daikon Pickles on the side. ']}\n"
     ]
    }
   ],
   "source": [
    "food = {\n",
    "            \"descriptions\": \"Fried rice is a dish of cooked rice that has been stir-fried in a wok or a frying pan and is usually mixed with other ingredients such as eggs, vegetables, seafood, or meat. \",\n",
    "            \"food_name\": \"Fried Rice\",\n",
    "            \"ingredients\": [\n",
    "                \"\\u00bd large shallot\",\n",
    "                \"2 cloves garlic\",\n",
    "                \"\\u00bd thai bird chile\",\n",
    "                \"4 garlic chive blossoms\",\n",
    "                \"2 large eggs\",\n",
    "                \"\\u00bd tsp fish sauce\",\n",
    "                \"1 tsp sambal oelek, or more if you like the heat\",\n",
    "                \"\\u00bd tsp shrimp paste\",\n",
    "                \"2 tsps oyster sauce\",\n",
    "                \"1 tsp sweet soy sauce \",\n",
    "                \"1 tbsp light soy sauce\",\n",
    "                \"2 cups cold rice\",\n",
    "                \"Salt, as needed\",\n",
    "                \"Peanut oil, as needed\",\n",
    "                \"Cilantro leaves, for garnish\",\n",
    "                \"1 lime, for serving\",\n",
    "                \"Carrot Daikon Pickles, for serving\"\n",
    "            ],\n",
    "            \"instructions\": [\n",
    "                \"Set out all equipment, tableware, and ingredients. Prepare Carrot Daikon Pickles. Rinse the chile, chive blossoms, cilantro, and lime.\",\n",
    "                \"Peel the shallot and garlic. Cut the shallot half in half, then slice \\u00bc-inch thick pieces. Thinly slice the garlic. De-stem, de-seed, and thinly slice the chile. Quarter the lime. Roughly chop the cilantro. Cut the chive blossoms into 2-inch lengths. \",\n",
    "                \"Whisk the eggs with \\u00bd tsp fish sauce and a pinch of salt.\",\n",
    "                \"Mix the oyster sauce, light soy sauce, and sweet soy sauce together. \",\n",
    "                \"Break the rice into individual grains with your fingers. \",\n",
    "                \"Preheat the wok over high heat until smoking, swirl in a small amount of oil to coat, and pour out excess in the \\u201cgrease-gutter,\\u201d which can be placed at the center-back region of the stove.\",\n",
    "                \"When beginning to smoke again, pour in 3 tbsp peanut oil, and swirl to heat.\",\n",
    "                \"Add the shallots and a pinch of salt, then cook until beginning to brown.\",\n",
    "                \"When the shallots have softened and begun to brown, add the garlic slices and chile, and cook until beginning to brown. Keep them moving constantly. Move to the next step if the shallots are getting too dark.  \",\n",
    "                \"Stir in the sambal oelek and shrimp paste until the color changes and the splattering slows down. The oil will definitely splatter, so keep your face back. \",\n",
    "                \"Pour in the eggs, and stir vigorously until they have absorbed the aromatics and oil. Add the chive blossoms, and keep stirring. \",\n",
    "                \"When the eggs have fully coagulated, add the rice, breaking it up if needed, and stir-fry until very hot. If the rice sticks to the sides of the wok, add a little more oil, and make sure the heat is as high as possible. The rice should sizzle and crackle when hot enough. \",\n",
    "                \"Drizzle the sauce mixture down the sides of the wok, and immediately toss to coat the rice. Cook until the sauce begins lightly caramelizing on the surface of the rice and the mixture does not look wet. \",\n",
    "                \"Taste, adjust salt, toss, and plate. \",\n",
    "                \"Sprinkle over the cilantro, and serve with lime and Carrot Daikon Pickles on the side. \"\n",
    "            ]\n",
    "            }\n",
    "\n",
    "new_food_name = input('Please enter your new food name : ')\n",
    "new_descriptions = input('Please enter your new descriptions : ')\n",
    "food['food_name'] = new_food_name\n",
    "food[\"descriptions\"] = new_descriptions\n",
    "print(food['food_name'])\n",
    "print(food)"
   ]
  },
  {
   "cell_type": "code",
   "execution_count": 13,
   "metadata": {},
   "outputs": [
    {
     "name": "stdout",
     "output_type": "stream",
     "text": [
      "{'username': 'Joni Setiawan', 'password': 'value2', 'total_uang': 12000}\n"
     ]
    }
   ],
   "source": [
    "data = {\"username\": \"value1\", \"password\": \"value2\", 'total_uang' : 12000}\n",
    "\n",
    "input_username = input('Please enter your new username : ')\n",
    "data['username'] = input_username\n",
    "print(data)"
   ]
  },
  {
   "cell_type": "code",
   "execution_count": 18,
   "metadata": {},
   "outputs": [
    {
     "data": {
      "text/plain": [
       "False"
      ]
     },
     "execution_count": 18,
     "metadata": {},
     "output_type": "execute_result"
    }
   ],
   "source": [
    "bool(0)"
   ]
  },
  {
   "cell_type": "code",
   "execution_count": 21,
   "metadata": {},
   "outputs": [
    {
     "data": {
      "text/plain": [
       "True"
      ]
     },
     "execution_count": 21,
     "metadata": {},
     "output_type": "execute_result"
    }
   ],
   "source": [
    "bool(-10)"
   ]
  },
  {
   "cell_type": "code",
   "execution_count": 24,
   "metadata": {},
   "outputs": [],
   "source": [
    "sure = bool(int(input(\"Are you sure you want to edit this food? (1/0) : \")))\n"
   ]
  },
  {
   "cell_type": "code",
   "execution_count": 25,
   "metadata": {},
   "outputs": [
    {
     "data": {
      "text/plain": [
       "True"
      ]
     },
     "execution_count": 25,
     "metadata": {},
     "output_type": "execute_result"
    }
   ],
   "source": [
    "sure"
   ]
  },
  {
   "cell_type": "code",
   "execution_count": 35,
   "metadata": {},
   "outputs": [
    {
     "name": "stdout",
     "output_type": "stream",
     "text": [
      "1 Fried Rice\n",
      "2 breakfast bao\n",
      "breakfast bao\n"
     ]
    }
   ],
   "source": [
    "foods = [\n",
    "            {\n",
    "                \"descriptions\": \"Fried rice is a dish of cooked rice that has been stir-fried in a wok or a frying pan and is usually mixed with other ingredients such as eggs, vegetables, seafood, or meat. \",\n",
    "                \"food_name\": \"Fried Rice\",\n",
    "                \"ingredients\": [\n",
    "                    \"\\u00bd large shallot\",\n",
    "                    \"2 cloves garlic\",\n",
    "                    \"\\u00bd thai bird chile\",\n",
    "                    \"4 garlic chive blossoms\",\n",
    "                    \"2 large eggs\",\n",
    "                    \"\\u00bd tsp fish sauce\",\n",
    "                    \"1 tsp sambal oelek, or more if you like the heat\",\n",
    "                    \"\\u00bd tsp shrimp paste\",\n",
    "                    \"2 tsps oyster sauce\",\n",
    "                    \"1 tsp sweet soy sauce \",\n",
    "                    \"1 tbsp light soy sauce\",\n",
    "                    \"2 cups cold rice\",\n",
    "                    \"Salt, as needed\",\n",
    "                    \"Peanut oil, as needed\",\n",
    "                    \"Cilantro leaves, for garnish\",\n",
    "                    \"1 lime, for serving\",\n",
    "                    \"Carrot Daikon Pickles, for serving\"\n",
    "                ],\n",
    "                \"instructions\": [\n",
    "                    \"Set out all equipment, tableware, and ingredients. Prepare Carrot Daikon Pickles. Rinse the chile, chive blossoms, cilantro, and lime.\",\n",
    "                    \"Peel the shallot and garlic. Cut the shallot half in half, then slice \\u00bc-inch thick pieces. Thinly slice the garlic. De-stem, de-seed, and thinly slice the chile. Quarter the lime. Roughly chop the cilantro. Cut the chive blossoms into 2-inch lengths. \",\n",
    "                    \"Whisk the eggs with \\u00bd tsp fish sauce and a pinch of salt.\",\n",
    "                    \"Mix the oyster sauce, light soy sauce, and sweet soy sauce together. \",\n",
    "                    \"Break the rice into individual grains with your fingers. \",\n",
    "                    \"Preheat the wok over high heat until smoking, swirl in a small amount of oil to coat, and pour out excess in the \\u201cgrease-gutter,\\u201d which can be placed at the center-back region of the stove.\",\n",
    "                    \"When beginning to smoke again, pour in 3 tbsp peanut oil, and swirl to heat.\",\n",
    "                    \"Add the shallots and a pinch of salt, then cook until beginning to brown.\",\n",
    "                    \"When the shallots have softened and begun to brown, add the garlic slices and chile, and cook until beginning to brown. Keep them moving constantly. Move to the next step if the shallots are getting too dark.  \",\n",
    "                    \"Stir in the sambal oelek and shrimp paste until the color changes and the splattering slows down. The oil will definitely splatter, so keep your face back. \",\n",
    "                    \"Pour in the eggs, and stir vigorously until they have absorbed the aromatics and oil. Add the chive blossoms, and keep stirring. \",\n",
    "                    \"When the eggs have fully coagulated, add the rice, breaking it up if needed, and stir-fry until very hot. If the rice sticks to the sides of the wok, add a little more oil, and make sure the heat is as high as possible. The rice should sizzle and crackle when hot enough. \",\n",
    "                    \"Drizzle the sauce mixture down the sides of the wok, and immediately toss to coat the rice. Cook until the sauce begins lightly caramelizing on the surface of the rice and the mixture does not look wet. \",\n",
    "                    \"Taste, adjust salt, toss, and plate. \",\n",
    "                    \"Sprinkle over the cilantro, and serve with lime and Carrot Daikon Pickles on the side. \"\n",
    "                ]\n",
    "            },\n",
    "            {\n",
    "                \"descriptions\": \"A take on traditional Taiwanese gua bao, these egg- and pork-filled breakfast bao are great for breakfast or any time of day.\",\n",
    "                \"food_name\": \"breakfast bao\",\n",
    "                \"ingredients\": [\n",
    "                    \"1 1/2 cups (180g) King Arthur Unbleached All-Purpose Flour\",\n",
    "                    \"1/2 cup (113g) milk, whole preferred; lukewarm\",\n",
    "                    \"3 tablespoons (37g) granulated sugar\",\n",
    "                    \"1 1/2 teaspoons vegetable oil, plus more for shaping\",\n",
    "                    \"1/2 teaspoon instant yeast\",\n",
    "                    \"1/4 teaspoon baking powder\",\n",
    "                    \"1/4 teaspoon table salt\",\n",
    "                    \"4 large eggs, at room temperature\",\n",
    "                    \"2 tablespoons (14g) scallions, thinly sliced\",\n",
    "                    \"4 teaspoons mirin\",\n",
    "                    \"4 teaspoons Shaoxing rice wine, sherry, or sake*\",\n",
    "                    \"4 teaspoons water, cool\",\n",
    "                    \"2 teaspoons toasted sesame oil\",\n",
    "                    \"1/8 teaspoon table salt\",\n",
    "                    \"1/8 teaspoon white pepper, ground\",\n",
    "                    \"2 to 4 teaspoons vegetable oil, for cooking\",\n",
    "                    \"soy paste, for drizzling\",\n",
    "                    \"1/2 cup (30g) pork floss*\"\n",
    "                ],\n",
    "                \"instructions\": [\n",
    "                    \"To make the bao dough: In the bowl of a stand mixer fitted with a dough hook, combine all the dough ingredients. Knead until a smooth, tacky dough forms, about 8 to 10 minutes.\",\n",
    "                    \"Transfer the dough to a lightly greased bowl, cover, and let it rise at room temperature until nearly doubled in bulk, 60 to 90 minutes.\",\n",
    "                    \"Meanwhile, cut out eight 3 1/2\\\" x 3 1/2\\\" parchment squares.\",\n",
    "                    \"Turn the bao dough out onto a lightly greased surface. Gently deflate the dough and divide it into 8 even pieces (about 41g each).\",\n",
    "                    \"Shape each piece into a tight ball: Pull the edges into the center, place seam side down on your work surface, then cup your hand over the dough ball and move in a circular motion to tighten the surface tension of the dough. Repeat with each piece of dough.\",\n",
    "                    \"Starting with the first dough ball, use a wooden dowel or small tapered rolling pin to flatten the dough into an oval shape, seam-side down. The dough will retract at this point, which is OK. Set aside and repeat with the other pieces of dough.\",\n",
    "                    \"Returning to the first piece of dough, roll it again so that it forms a rough 3\\\" x 6\\\" oval. Repeat with the other pieces of dough. You may need to repeat this process 2 or 3 times before the dough stays this size, with brief rests between rolling attempts. To achieve thin edges, rotate the dough with your non-dominant hand gradually as you roll out the edges of the oval using a pin in your dominant hand.\",\n",
    "                    \"Flip the dough over (so it's now seam-side up), brush with a thin layer of oil, then fold in half like a clamshell. Place the folded dough onto one of the parchment squares on a baking sheet. Repeat with the remaining dough.\",\n",
    "                    \"Loosely cover the baking sheet with plastic wrap or a reusable cover, and let the dough rise in a warm place for 30 to 45 minutes. The gua bao will not rise significantly but should become puffier.\",\n",
    "                    \"To steam the gua bao: Bring a shallow pot or frying pan of water to a boil. Place the gua bao with their individual parchment squares onto the steamer trays. Place the steamer trays and lid on top of the pot (or pan) and steam for 10 minutes. Remove the steamer basket from the water and let the buns rest inside, still covered, for 10 additional minutes. The steamed gua bao will be firm and bounce back when poked. (If your steamer trays cannot fit all the bao, you may have to steam in batches.)\",\n",
    "                    \"To make the omelets: While the gua bao are resting, whisk together all of the omelet ingredients except for the oil. Add 1 teaspoon of oil to a small (6\\\" or 8\\\" diameter) nonstick pan and heat over medium to medium-low until the oil shimmers. Pour in enough of the egg mixture to coat the bottom of the pan in a thin layer. Lower the heat to prevent any sizzling, if necessary. Cook the egg mixture undisturbed until the bottom is set, 1 to 2 minutes depending on the pan size. While the top is still slightly wet, fold the omelet over onto itself 2 or more times to create a roughly 2\\\"-wide strip across the diameter of the pan. (If cooking in a 6\\\" nonstick pan, these omelets easily fold into thirds. If using a larger pan, you may need to make more folds.)\",\n",
    "                    \"Transfer the cooked omelet to a cutting board and repeat with the rest of the egg mixture until it's all used. Once all the omelets are cooked, slice them crosswise into roughly 3\\\" pieces for filling the gua bao.\",\n",
    "                    \"To assemble the breakfast bao: Fill each gua bao with a portion of omelet, then drizzle on soy paste to taste. Add about 1 tablespoon of pork floss per bun. Eat warm or at room temperature.\",\n",
    "                    \"Storage information: Store steamed, unfilled buns in an airtight container in the refrigerator for 2 to 3 days or freeze for 1 month. Reheat in the microwave, covered with a damp paper towel so that they don\\u2019t dry out.\"\n",
    "                ]\n",
    "            }\n",
    "        ]\n",
    "\n",
    "for i, food in enumerate(foods, start=1):\n",
    "    print(i, food['food_name'])\n",
    "    \n",
    "food_to_delete = int(input('Enter food number to delete : ')) - 1\n",
    "\n",
    "foods.pop(food_to_delete)\n",
    "print(foods[0]['food_name'])\n"
   ]
  },
  {
   "cell_type": "code",
   "execution_count": 26,
   "metadata": {},
   "outputs": [
    {
     "name": "stdout",
     "output_type": "stream",
     "text": [
      "['John', 'Adam', 'Steve', 'Rick', 'Thomas']\n"
     ]
    }
   ],
   "source": [
    "names = ['John', 'Corey', 'Adam', 'Steve', 'Rick', 'Thomas']\n",
    "names.pop(1)\n",
    "print(names) "
   ]
  },
  {
   "cell_type": "code",
   "execution_count": 32,
   "metadata": {},
   "outputs": [
    {
     "name": "stdout",
     "output_type": "stream",
     "text": [
      "['John', 'Albert', 'John', 'Adam', 'Steve', 'Rick']\n"
     ]
    }
   ],
   "source": [
    "names = ['John',  'Albert', 'John', 'Adam', 'Steve', 'Rick', 'Thomas']\n",
    "names.pop(-1)\n",
    "print(names)"
   ]
  },
  {
   "cell_type": "code",
   "execution_count": 38,
   "metadata": {},
   "outputs": [
    {
     "name": "stdout",
     "output_type": "stream",
     "text": [
      "(1, 2)\n"
     ]
    }
   ],
   "source": [
    "def x_y(x, y):\n",
    "    return x,y\n",
    "\n",
    "x,y = x_y(1,2)\n",
    "\n",
    "print(x,y)"
   ]
  },
  {
   "cell_type": "code",
   "execution_count": null,
   "metadata": {},
   "outputs": [],
   "source": []
  }
 ],
 "metadata": {
  "kernelspec": {
   "display_name": ".venv",
   "language": "python",
   "name": "python3"
  },
  "language_info": {
   "codemirror_mode": {
    "name": "ipython",
    "version": 3
   },
   "file_extension": ".py",
   "mimetype": "text/x-python",
   "name": "python",
   "nbconvert_exporter": "python",
   "pygments_lexer": "ipython3",
   "version": "3.12.1"
  }
 },
 "nbformat": 4,
 "nbformat_minor": 2
}
