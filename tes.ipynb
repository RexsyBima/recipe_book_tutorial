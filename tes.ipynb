{
 "cells": [
  {
   "cell_type": "code",
   "execution_count": 8,
   "metadata": {},
   "outputs": [],
   "source": [
    "food_name = input(\"Enter food name: \")\n",
    "descriptions = input(\"Enter food descriptions: \")\n",
    "ingredients = []\n",
    "\n",
    "while True:\n",
    "    food_ingredient = input(\"Enter ingredient, type 0 to stop: \")\n",
    "    if food_ingredient == \"0\":\n",
    "        break\n",
    "    ingredients.append(food_ingredient)\n",
    "    \n",
    "    \n",
    "instructions = []\n",
    "while True:\n",
    "    instruction = input(\"Enter instruction, type 0 to stop: \")\n",
    "    if instruction == \"0\":\n",
    "        break\n",
    "    instructions.append(instruction)\n",
    "\n",
    "recipes = {\"food_name\": food_name, \"descriptions\": descriptions, \"ingredients\": ingredients, \"instructions\": instructions}"
   ]
  },
  {
   "cell_type": "code",
   "execution_count": 17,
   "metadata": {},
   "outputs": [
    {
     "data": {
      "text/plain": [
       "{'food_name': 'FriedRice',\n",
       " 'descriptions': 'Fried Rice is Indonesian-SEA Classic',\n",
       " 'ingredients': ['rice', 'egg', 'salt', 'soy sauce', 'msg', 'garlic'],\n",
       " 'instructions': [\"prepare rice, make sure it's a day old rice\",\n",
       "  'beat the egg, mix with salt into the beaten egg',\n",
       "  'prepare wok, prepare oil',\n",
       "  'dstnya',\n",
       "  'prepare the plate, pour the fried rice into the plate',\n",
       "  'fried rice ready to serve']}"
      ]
     },
     "execution_count": 17,
     "metadata": {},
     "output_type": "execute_result"
    }
   ],
   "source": [
    "recipes"
   ]
  },
  {
   "cell_type": "code",
   "execution_count": 6,
   "metadata": {},
   "outputs": [
    {
     "data": {
      "text/plain": [
       "['rice', 'egg', 'soy sauce', ' garlic']"
      ]
     },
     "execution_count": 6,
     "metadata": {},
     "output_type": "execute_result"
    }
   ],
   "source": [
    "#recipes['ingredients'].split(',')"
   ]
  },
  {
   "cell_type": "code",
   "execution_count": 24,
   "metadata": {},
   "outputs": [
    {
     "data": {
      "text/plain": [
       "{'password': 'hellkitchen', 'recipes': [], 'username': 'GordonRamsay'}"
      ]
     },
     "execution_count": 24,
     "metadata": {},
     "output_type": "execute_result"
    }
   ],
   "source": [
    "user = {\n",
    "        \"password\": \"hellkitchen\",\n",
    "        \"recipes\": [],\n",
    "        \"username\": \"GordonRamsay\"\n",
    "    }\n",
    "\n",
    "user"
   ]
  },
  {
   "cell_type": "code",
   "execution_count": 26,
   "metadata": {},
   "outputs": [],
   "source": [
    "user['recipes'].append(recipes)"
   ]
  },
  {
   "cell_type": "code",
   "execution_count": 27,
   "metadata": {},
   "outputs": [
    {
     "data": {
      "text/plain": [
       "{'password': 'hellkitchen',\n",
       " 'recipes': [{'food_name': 'FriedRice',\n",
       "   'descriptions': 'Fried Rice is Indonesian-SEA Classic',\n",
       "   'ingredients': ['rice', 'egg', 'salt', 'soy sauce', 'msg', 'garlic'],\n",
       "   'instructions': [\"prepare rice, make sure it's a day old rice\",\n",
       "    'beat the egg, mix with salt into the beaten egg',\n",
       "    'prepare wok, prepare oil',\n",
       "    'dstnya',\n",
       "    'prepare the plate, pour the fried rice into the plate',\n",
       "    'fried rice ready to serve']}],\n",
       " 'username': 'GordonRamsay'}"
      ]
     },
     "execution_count": 27,
     "metadata": {},
     "output_type": "execute_result"
    }
   ],
   "source": [
    "user"
   ]
  },
  {
   "cell_type": "code",
   "execution_count": 35,
   "metadata": {},
   "outputs": [
    {
     "data": {
      "text/plain": [
       "{'GordonRamsay': {'password': 'hellkitchen',\n",
       "  'recipes': ['food1', 'food2', 'food3'],\n",
       "  'username': 'GordonRamsay'},\n",
       " 'NickDiGiovanni': {'password': 'NickDiGiovanni',\n",
       "  'recipes': [],\n",
       "  'username': 'NickDiGiovanni'}}"
      ]
     },
     "execution_count": 35,
     "metadata": {},
     "output_type": "execute_result"
    }
   ],
   "source": [
    "datas = {\n",
    "    \"GordonRamsay\": {\n",
    "        \"password\": \"hellkitchen\",\n",
    "        \"recipes\": [],\n",
    "        \"username\": \"GordonRamsay\"\n",
    "    },\n",
    "    \"NickDiGiovanni\": {\n",
    "        \"password\": \"NickDiGiovanni\",\n",
    "        \"recipes\": [],\n",
    "        \"username\": \"NickDiGiovanni\"\n",
    "    }\n",
    "}\n",
    "\n",
    "user = {\n",
    "        \"password\": \"hellkitchen\",\n",
    "        \"recipes\": ['food1', 'food2', 'food3'],\n",
    "        \"username\": \"GordonRamsay\"\n",
    "    }\n",
    "\n",
    "for d in datas:\n",
    "    if d == user['username']:\n",
    "        datas[d]['recipes'] = user['recipes']\n",
    "        \n",
    "datas"
   ]
  },
  {
   "cell_type": "code",
   "execution_count": 44,
   "metadata": {},
   "outputs": [
    {
     "name": "stdout",
     "output_type": "stream",
     "text": [
      "1 reading\n",
      "2 coding\n",
      "3 sleeping\n"
     ]
    }
   ],
   "source": [
    "todos = ['reading', 'coding', 'sleeping']\n",
    "\n",
    "for i,t in enumerate(todos, start=1):\n",
    "    print(i, t)"
   ]
  },
  {
   "cell_type": "code",
   "execution_count": 41,
   "metadata": {},
   "outputs": [
    {
     "ename": "ValueError",
     "evalue": "not enough values to unpack (expected 3, got 2)",
     "output_type": "error",
     "traceback": [
      "\u001b[1;31m---------------------------------------------------------------------------\u001b[0m",
      "\u001b[1;31mValueError\u001b[0m                                Traceback (most recent call last)",
      "Cell \u001b[1;32mIn[41], line 1\u001b[0m\n\u001b[1;32m----> 1\u001b[0m x, y, z \u001b[38;5;241m=\u001b[39m (\u001b[38;5;241m0\u001b[39m, \u001b[38;5;124m'\u001b[39m\u001b[38;5;124mreading\u001b[39m\u001b[38;5;124m'\u001b[39m)\n\u001b[0;32m      2\u001b[0m \u001b[38;5;28mprint\u001b[39m(x)\n",
      "\u001b[1;31mValueError\u001b[0m: not enough values to unpack (expected 3, got 2)"
     ]
    }
   ],
   "source": [
    "x, y = (0, 'reading')\n",
    "print(x)"
   ]
  },
  {
   "cell_type": "code",
   "execution_count": 39,
   "metadata": {},
   "outputs": [
    {
     "name": "stdout",
     "output_type": "stream",
     "text": [
      "reading\n"
     ]
    }
   ],
   "source": [
    "print(y)"
   ]
  },
  {
   "cell_type": "code",
   "execution_count": 47,
   "metadata": {},
   "outputs": [
    {
     "data": {
      "text/plain": [
       "'jose'"
      ]
     },
     "execution_count": 47,
     "metadata": {},
     "output_type": "execute_result"
    }
   ],
   "source": [
    "names = ['joni', 'joe', 'jose']\n",
    "names[2]"
   ]
  },
  {
   "cell_type": "code",
   "execution_count": null,
   "metadata": {},
   "outputs": [],
   "source": []
  }
 ],
 "metadata": {
  "kernelspec": {
   "display_name": ".venv",
   "language": "python",
   "name": "python3"
  },
  "language_info": {
   "codemirror_mode": {
    "name": "ipython",
    "version": 3
   },
   "file_extension": ".py",
   "mimetype": "text/x-python",
   "name": "python",
   "nbconvert_exporter": "python",
   "pygments_lexer": "ipython3",
   "version": "3.12.1"
  }
 },
 "nbformat": 4,
 "nbformat_minor": 2
}
